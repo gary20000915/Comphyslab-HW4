{
 "cells": [
  {
   "attachments": {},
   "cell_type": "markdown",
   "metadata": {},
   "source": [
    "### 1. Finite Difference method for solving discrete Laplace Equation"
   ]
  },
  {
   "cell_type": "code",
   "execution_count": 32,
   "metadata": {},
   "outputs": [],
   "source": [
    "%reset -f\n",
    "\n",
    "import numpy as np\n",
    "import matplotlib.pyplot as plt\n",
    "from scipy import linalg\n",
    "from scipy.sparse import csc_matrix\n",
    "from scipy.sparse import dia_array\n",
    "from scipy.sparse import dia_matrix\n",
    "import scipy.sparse.linalg as splinalg\n",
    "from numba import njit, prange"
   ]
  },
  {
   "cell_type": "code",
   "execution_count": 33,
   "metadata": {},
   "outputs": [],
   "source": [
    "N = 3\n",
    "min, max = -1, 1\n",
    "dx = (max - min) / N"
   ]
  },
  {
   "cell_type": "code",
   "execution_count": 34,
   "metadata": {},
   "outputs": [],
   "source": [
    "def generate_D(n):\n",
    "    ex = np.ones(n)\n",
    "    data = np.array([-1 * ex, 4 * ex, -1 * ex])\n",
    "    offsets = np.array([-1, 0, 1])\n",
    "    \n",
    "    return dia_matrix((data, offsets), shape=(n, n)).toarray()"
   ]
  },
  {
   "cell_type": "code",
   "execution_count": 35,
   "metadata": {},
   "outputs": [],
   "source": [
    "@njit(parallel = True)\n",
    "def kernel(N, A, D, I):\n",
    "    for i in prange(N):\n",
    "        for j in prange(N):\n",
    "            if i == j:\n",
    "                for ii in prange(N):\n",
    "                    for jj in prange(N):\n",
    "                        A[ii+N*i, jj+N*j] = D[ii, jj]\n",
    "                        \n",
    "            if np.abs(i - j) == 1:\n",
    "                for ii in prange(N):\n",
    "                    for jj in prange(N):\n",
    "                        A[ii+N*i, jj+N*j] = I[ii, jj]\n",
    "                        \n",
    "    return A"
   ]
  },
  {
   "cell_type": "code",
   "execution_count": 36,
   "metadata": {},
   "outputs": [],
   "source": [
    "def generate_A(N):\n",
    "    A = np.zeros((N ** 2, N ** 2))\n",
    "    D = generate_D(N)\n",
    "    I = -np.identity(N)\n",
    "    A = kernel(N, A, D, I)\n",
    "    print(A)\n",
    "    return A"
   ]
  },
  {
   "cell_type": "code",
   "execution_count": 37,
   "metadata": {},
   "outputs": [],
   "source": [
    "def generate_b(N, dx):\n",
    "    b = np.zeros(N ** 2).reshape(N, N)\n",
    "    b[2, 2] = -1 * np.square(dx)\n",
    "    return b.reshape(N ** 2)"
   ]
  },
  {
   "cell_type": "code",
   "execution_count": 38,
   "metadata": {},
   "outputs": [],
   "source": [
    "# solve\n",
    "def solve(N, dx):\n",
    "    a = generate_A(N)\n",
    "    a = csc_matrix(a) # transform to the fitting matrix\n",
    "    b = generate_b(N, dx)\n",
    "    x = splinalg.spsolve(a, b).reshape(N, N)\n",
    "    return x"
   ]
  },
  {
   "cell_type": "code",
   "execution_count": 39,
   "metadata": {},
   "outputs": [
    {
     "name": "stdout",
     "output_type": "stream",
     "text": [
      "[[ 4. -1.  0. -1. -0. -0.  0.  0.  0.]\n",
      " [-1.  4. -1. -0. -1. -0.  0.  0.  0.]\n",
      " [ 0. -1.  4. -0. -0. -1.  0.  0.  0.]\n",
      " [-1. -0. -0.  4. -1.  0. -1. -0. -0.]\n",
      " [-0. -1. -0. -1.  4. -1. -0. -1. -0.]\n",
      " [-0. -0. -1.  0. -1.  4. -0. -0. -1.]\n",
      " [ 0.  0.  0. -1. -0. -0.  4. -1.  0.]\n",
      " [ 0.  0.  0. -0. -1. -0. -1.  4. -1.]\n",
      " [ 0.  0.  0. -0. -0. -1.  0. -1.  4.]]\n",
      "[[-0.00595238 -0.01190476 -0.01388889]\n",
      " [-0.01190476 -0.02777778 -0.04365079]\n",
      " [-0.01388889 -0.04365079 -0.13293651]]\n"
     ]
    }
   ],
   "source": [
    "u = solve(N, dx)\n",
    "print(u)"
   ]
  },
  {
   "cell_type": "code",
   "execution_count": 43,
   "metadata": {},
   "outputs": [
    {
     "data": {
      "text/plain": [
       "<matplotlib.colorbar.Colorbar at 0x7f99115527f0>"
      ]
     },
     "execution_count": 43,
     "metadata": {},
     "output_type": "execute_result"
    },
    {
     "data": {
      "image/png": "[encoded data removed]",
      "text/plain": [
       "<Figure size 640x480 with 2 Axes>"
      ]
     },
     "metadata": {},
     "output_type": "display_data"
    }
   ],
   "source": [
    "plt.imshow(u, origin = 'lower')\n",
    "plt.colorbar()"
   ]
  },
  {
   "cell_type": "code",
   "execution_count": null,
   "metadata": {},
   "outputs": [],
   "source": []
  }
 ],
 "metadata": {
  "kernelspec": {
   "display_name": "Python 3.9.15 ('comphyslab')",
   "language": "python",
   "name": "python3"
  },
  "language_info": {
   "codemirror_mode": {
    "name": "ipython",
    "version": 3
   },
   "file_extension": ".py",
   "mimetype": "text/x-python",
   "name": "python",
   "nbconvert_exporter": "python",
   "pygments_lexer": "ipython3",
   "version": "3.9.15"
  },
  "orig_nbformat": 4,
  "vscode": {
   "interpreter": {
    "hash": "eeea1ce61b540986bdb81269f410f173c0c0cba22073620a68832cfc592c0b3f"
   }
  }
 },
 "nbformat": 4,
 "nbformat_minor": 2
}
